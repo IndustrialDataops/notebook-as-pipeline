{
 "cells": [
  {
   "cell_type": "code",
   "execution_count": 1,
   "id": "f25b7fe7",
   "metadata": {
    "execution": {
     "iopub.execute_input": "2021-11-27T04:52:50.256494Z",
     "iopub.status.busy": "2021-11-27T04:52:50.250483Z",
     "iopub.status.idle": "2021-11-27T04:52:50.261457Z",
     "shell.execute_reply": "2021-11-27T04:52:50.260781Z"
    },
    "papermill": {
     "duration": 0.035506,
     "end_time": "2021-11-27T04:52:50.261573",
     "exception": false,
     "start_time": "2021-11-27T04:52:50.226067",
     "status": "completed"
    },
    "tags": [
     "parameters"
    ]
   },
   "outputs": [],
   "source": [
    "start = 1\n",
    "end   = 10 "
   ]
  },
  {
   "cell_type": "code",
   "execution_count": 2,
   "id": "5bf11fe1",
   "metadata": {
    "execution": {
     "iopub.execute_input": "2021-11-27T04:52:50.313075Z",
     "iopub.status.busy": "2021-11-27T04:52:50.312464Z",
     "iopub.status.idle": "2021-11-27T04:52:50.316069Z",
     "shell.execute_reply": "2021-11-27T04:52:50.315389Z"
    },
    "papermill": {
     "duration": 0.033006,
     "end_time": "2021-11-27T04:52:50.316294",
     "exception": false,
     "start_time": "2021-11-27T04:52:50.283288",
     "status": "completed"
    },
    "tags": [
     "injected-parameters"
    ]
   },
   "outputs": [],
   "source": [
    "# Parameters\n",
    "start = 43\n",
    "end = 57\n"
   ]
  },
  {
   "cell_type": "code",
   "execution_count": 3,
   "id": "b70f2504",
   "metadata": {
    "execution": {
     "iopub.execute_input": "2021-11-27T04:52:50.369095Z",
     "iopub.status.busy": "2021-11-27T04:52:50.368358Z",
     "iopub.status.idle": "2021-11-27T04:52:50.665210Z",
     "shell.execute_reply": "2021-11-27T04:52:50.665600Z"
    },
    "papermill": {
     "duration": 0.326513,
     "end_time": "2021-11-27T04:52:50.665717",
     "exception": false,
     "start_time": "2021-11-27T04:52:50.339204",
     "status": "completed"
    },
    "tags": []
   },
   "outputs": [],
   "source": [
    "import pandas as pd \n",
    "\n",
    "df = pd.DataFrame(list(range(start,end)),columns=['data'])"
   ]
  },
  {
   "cell_type": "code",
   "execution_count": 4,
   "id": "acb493b8",
   "metadata": {
    "execution": {
     "iopub.execute_input": "2021-11-27T04:52:50.717529Z",
     "iopub.status.busy": "2021-11-27T04:52:50.716646Z",
     "iopub.status.idle": "2021-11-27T04:52:50.720166Z",
     "shell.execute_reply": "2021-11-27T04:52:50.719674Z"
    },
    "papermill": {
     "duration": 0.032432,
     "end_time": "2021-11-27T04:52:50.720298",
     "exception": false,
     "start_time": "2021-11-27T04:52:50.687866",
     "status": "completed"
    },
    "tags": []
   },
   "outputs": [],
   "source": [
    "def SquareFunc(data:int)->int:\n",
    "    return data*data"
   ]
  },
  {
   "cell_type": "code",
   "execution_count": 5,
   "id": "7383dd79",
   "metadata": {
    "execution": {
     "iopub.execute_input": "2021-11-27T04:52:50.771303Z",
     "iopub.status.busy": "2021-11-27T04:52:50.770532Z",
     "iopub.status.idle": "2021-11-27T04:52:50.773341Z",
     "shell.execute_reply": "2021-11-27T04:52:50.773777Z"
    },
    "papermill": {
     "duration": 0.032763,
     "end_time": "2021-11-27T04:52:50.773944",
     "exception": false,
     "start_time": "2021-11-27T04:52:50.741181",
     "status": "completed"
    },
    "tags": []
   },
   "outputs": [],
   "source": [
    "df['squared'] = df['data'].apply(SquareFunc)"
   ]
  },
  {
   "cell_type": "code",
   "execution_count": 6,
   "id": "c790eb1c",
   "metadata": {
    "execution": {
     "iopub.execute_input": "2021-11-27T04:52:50.834073Z",
     "iopub.status.busy": "2021-11-27T04:52:50.832227Z",
     "iopub.status.idle": "2021-11-27T04:52:50.841018Z",
     "shell.execute_reply": "2021-11-27T04:52:50.840472Z"
    },
    "papermill": {
     "duration": 0.045564,
     "end_time": "2021-11-27T04:52:50.841126",
     "exception": false,
     "start_time": "2021-11-27T04:52:50.795562",
     "status": "completed"
    },
    "tags": []
   },
   "outputs": [
    {
     "data": {
      "text/html": [
       "<div>\n",
       "<style scoped>\n",
       "    .dataframe tbody tr th:only-of-type {\n",
       "        vertical-align: middle;\n",
       "    }\n",
       "\n",
       "    .dataframe tbody tr th {\n",
       "        vertical-align: top;\n",
       "    }\n",
       "\n",
       "    .dataframe thead th {\n",
       "        text-align: right;\n",
       "    }\n",
       "</style>\n",
       "<table border=\"1\" class=\"dataframe\">\n",
       "  <thead>\n",
       "    <tr style=\"text-align: right;\">\n",
       "      <th></th>\n",
       "      <th>data</th>\n",
       "      <th>squared</th>\n",
       "    </tr>\n",
       "  </thead>\n",
       "  <tbody>\n",
       "    <tr>\n",
       "      <th>0</th>\n",
       "      <td>43</td>\n",
       "      <td>1849</td>\n",
       "    </tr>\n",
       "    <tr>\n",
       "      <th>1</th>\n",
       "      <td>44</td>\n",
       "      <td>1936</td>\n",
       "    </tr>\n",
       "    <tr>\n",
       "      <th>2</th>\n",
       "      <td>45</td>\n",
       "      <td>2025</td>\n",
       "    </tr>\n",
       "    <tr>\n",
       "      <th>3</th>\n",
       "      <td>46</td>\n",
       "      <td>2116</td>\n",
       "    </tr>\n",
       "    <tr>\n",
       "      <th>4</th>\n",
       "      <td>47</td>\n",
       "      <td>2209</td>\n",
       "    </tr>\n",
       "    <tr>\n",
       "      <th>5</th>\n",
       "      <td>48</td>\n",
       "      <td>2304</td>\n",
       "    </tr>\n",
       "    <tr>\n",
       "      <th>6</th>\n",
       "      <td>49</td>\n",
       "      <td>2401</td>\n",
       "    </tr>\n",
       "    <tr>\n",
       "      <th>7</th>\n",
       "      <td>50</td>\n",
       "      <td>2500</td>\n",
       "    </tr>\n",
       "    <tr>\n",
       "      <th>8</th>\n",
       "      <td>51</td>\n",
       "      <td>2601</td>\n",
       "    </tr>\n",
       "    <tr>\n",
       "      <th>9</th>\n",
       "      <td>52</td>\n",
       "      <td>2704</td>\n",
       "    </tr>\n",
       "    <tr>\n",
       "      <th>10</th>\n",
       "      <td>53</td>\n",
       "      <td>2809</td>\n",
       "    </tr>\n",
       "    <tr>\n",
       "      <th>11</th>\n",
       "      <td>54</td>\n",
       "      <td>2916</td>\n",
       "    </tr>\n",
       "    <tr>\n",
       "      <th>12</th>\n",
       "      <td>55</td>\n",
       "      <td>3025</td>\n",
       "    </tr>\n",
       "    <tr>\n",
       "      <th>13</th>\n",
       "      <td>56</td>\n",
       "      <td>3136</td>\n",
       "    </tr>\n",
       "  </tbody>\n",
       "</table>\n",
       "</div>"
      ],
      "text/plain": [
       "    data  squared\n",
       "0     43     1849\n",
       "1     44     1936\n",
       "2     45     2025\n",
       "3     46     2116\n",
       "4     47     2209\n",
       "5     48     2304\n",
       "6     49     2401\n",
       "7     50     2500\n",
       "8     51     2601\n",
       "9     52     2704\n",
       "10    53     2809\n",
       "11    54     2916\n",
       "12    55     3025\n",
       "13    56     3136"
      ]
     },
     "execution_count": 6,
     "metadata": {},
     "output_type": "execute_result"
    }
   ],
   "source": [
    "df"
   ]
  },
  {
   "cell_type": "code",
   "execution_count": null,
   "id": "1089f628",
   "metadata": {
    "papermill": {
     "duration": 0.026774,
     "end_time": "2021-11-27T04:52:50.891583",
     "exception": false,
     "start_time": "2021-11-27T04:52:50.864809",
     "status": "completed"
    },
    "tags": []
   },
   "outputs": [],
   "source": []
  }
 ],
 "metadata": {
  "celltoolbar": "Tags",
  "kernelspec": {
   "display_name": "Python 3",
   "language": "python",
   "name": "python3"
  },
  "language_info": {
   "codemirror_mode": {
    "name": "ipython",
    "version": 3
   },
   "file_extension": ".py",
   "mimetype": "text/x-python",
   "name": "python",
   "nbconvert_exporter": "python",
   "pygments_lexer": "ipython3",
   "version": "3.9.6"
  },
  "papermill": {
   "default_parameters": {},
   "duration": 2.054715,
   "end_time": "2021-11-27T04:52:51.128550",
   "environment_variables": {},
   "exception": null,
   "input_path": "notebooks/Sample.ipynb",
   "output_path": "outputs/2021-11-27/Sample_202111270452.ipynb",
   "parameters": {
    "end": 57,
    "start": 43
   },
   "start_time": "2021-11-27T04:52:49.073835",
   "version": "2.3.3"
  }
 },
 "nbformat": 4,
 "nbformat_minor": 5
}