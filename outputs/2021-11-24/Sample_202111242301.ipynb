{
 "cells": [
  {
   "cell_type": "code",
   "execution_count": 1,
   "id": "f25b7fe7",
   "metadata": {
    "execution": {
     "iopub.execute_input": "2021-11-25T03:01:43.389880Z",
     "iopub.status.busy": "2021-11-25T03:01:43.389880Z",
     "iopub.status.idle": "2021-11-25T03:01:43.394914Z",
     "shell.execute_reply": "2021-11-25T03:01:43.393878Z"
    },
    "papermill": {
     "duration": 0.018786,
     "end_time": "2021-11-25T03:01:43.394914",
     "exception": false,
     "start_time": "2021-11-25T03:01:43.376128",
     "status": "completed"
    },
    "tags": [
     "parameters"
    ]
   },
   "outputs": [],
   "source": [
    "start = 1\n",
    "end   = 10 "
   ]
  },
  {
   "cell_type": "code",
   "execution_count": 2,
   "id": "306854fa",
   "metadata": {
    "execution": {
     "iopub.execute_input": "2021-11-25T03:01:43.408884Z",
     "iopub.status.busy": "2021-11-25T03:01:43.407881Z",
     "iopub.status.idle": "2021-11-25T03:01:43.425155Z",
     "shell.execute_reply": "2021-11-25T03:01:43.424121Z"
    },
    "papermill": {
     "duration": 0.025278,
     "end_time": "2021-11-25T03:01:43.425155",
     "exception": false,
     "start_time": "2021-11-25T03:01:43.399877",
     "status": "completed"
    },
    "tags": [
     "injected-parameters"
    ]
   },
   "outputs": [],
   "source": [
    "# Parameters\n",
    "start = 100\n",
    "end = 110\n"
   ]
  },
  {
   "cell_type": "code",
   "execution_count": 3,
   "id": "b70f2504",
   "metadata": {
    "execution": {
     "iopub.execute_input": "2021-11-25T03:01:43.441122Z",
     "iopub.status.busy": "2021-11-25T03:01:43.440121Z",
     "iopub.status.idle": "2021-11-25T03:01:44.053205Z",
     "shell.execute_reply": "2021-11-25T03:01:44.053205Z"
    },
    "papermill": {
     "duration": 0.623083,
     "end_time": "2021-11-25T03:01:44.053205",
     "exception": false,
     "start_time": "2021-11-25T03:01:43.430122",
     "status": "completed"
    },
    "tags": []
   },
   "outputs": [],
   "source": [
    "import pandas as pd \n",
    "\n",
    "df = pd.DataFrame(list(range(start,end)),columns=['data'])"
   ]
  },
  {
   "cell_type": "code",
   "execution_count": 4,
   "id": "acb493b8",
   "metadata": {
    "execution": {
     "iopub.execute_input": "2021-11-25T03:01:44.069204Z",
     "iopub.status.busy": "2021-11-25T03:01:44.068206Z",
     "iopub.status.idle": "2021-11-25T03:01:44.086203Z",
     "shell.execute_reply": "2021-11-25T03:01:44.085204Z"
    },
    "papermill": {
     "duration": 0.026998,
     "end_time": "2021-11-25T03:01:44.086203",
     "exception": false,
     "start_time": "2021-11-25T03:01:44.059205",
     "status": "completed"
    },
    "tags": []
   },
   "outputs": [],
   "source": [
    "def SquareFunc(data:int)->int:\n",
    "    return data*data"
   ]
  },
  {
   "cell_type": "code",
   "execution_count": 5,
   "id": "7383dd79",
   "metadata": {
    "execution": {
     "iopub.execute_input": "2021-11-25T03:01:44.103205Z",
     "iopub.status.busy": "2021-11-25T03:01:44.102204Z",
     "iopub.status.idle": "2021-11-25T03:01:44.117205Z",
     "shell.execute_reply": "2021-11-25T03:01:44.117205Z"
    },
    "papermill": {
     "duration": 0.027,
     "end_time": "2021-11-25T03:01:44.118203",
     "exception": false,
     "start_time": "2021-11-25T03:01:44.091203",
     "status": "completed"
    },
    "tags": []
   },
   "outputs": [],
   "source": [
    "df['squared'] = df['data'].apply(SquareFunc)"
   ]
  },
  {
   "cell_type": "code",
   "execution_count": 6,
   "id": "c790eb1c",
   "metadata": {
    "execution": {
     "iopub.execute_input": "2021-11-25T03:01:44.139205Z",
     "iopub.status.busy": "2021-11-25T03:01:44.138204Z",
     "iopub.status.idle": "2021-11-25T03:01:44.149064Z",
     "shell.execute_reply": "2021-11-25T03:01:44.149064Z"
    },
    "papermill": {
     "duration": 0.02586,
     "end_time": "2021-11-25T03:01:44.149064",
     "exception": false,
     "start_time": "2021-11-25T03:01:44.123204",
     "status": "completed"
    },
    "tags": []
   },
   "outputs": [
    {
     "data": {
      "text/html": [
       "<div>\n",
       "<style scoped>\n",
       "    .dataframe tbody tr th:only-of-type {\n",
       "        vertical-align: middle;\n",
       "    }\n",
       "\n",
       "    .dataframe tbody tr th {\n",
       "        vertical-align: top;\n",
       "    }\n",
       "\n",
       "    .dataframe thead th {\n",
       "        text-align: right;\n",
       "    }\n",
       "</style>\n",
       "<table border=\"1\" class=\"dataframe\">\n",
       "  <thead>\n",
       "    <tr style=\"text-align: right;\">\n",
       "      <th></th>\n",
       "      <th>data</th>\n",
       "      <th>squared</th>\n",
       "    </tr>\n",
       "  </thead>\n",
       "  <tbody>\n",
       "    <tr>\n",
       "      <th>0</th>\n",
       "      <td>100</td>\n",
       "      <td>10000</td>\n",
       "    </tr>\n",
       "    <tr>\n",
       "      <th>1</th>\n",
       "      <td>101</td>\n",
       "      <td>10201</td>\n",
       "    </tr>\n",
       "    <tr>\n",
       "      <th>2</th>\n",
       "      <td>102</td>\n",
       "      <td>10404</td>\n",
       "    </tr>\n",
       "    <tr>\n",
       "      <th>3</th>\n",
       "      <td>103</td>\n",
       "      <td>10609</td>\n",
       "    </tr>\n",
       "    <tr>\n",
       "      <th>4</th>\n",
       "      <td>104</td>\n",
       "      <td>10816</td>\n",
       "    </tr>\n",
       "    <tr>\n",
       "      <th>5</th>\n",
       "      <td>105</td>\n",
       "      <td>11025</td>\n",
       "    </tr>\n",
       "    <tr>\n",
       "      <th>6</th>\n",
       "      <td>106</td>\n",
       "      <td>11236</td>\n",
       "    </tr>\n",
       "    <tr>\n",
       "      <th>7</th>\n",
       "      <td>107</td>\n",
       "      <td>11449</td>\n",
       "    </tr>\n",
       "    <tr>\n",
       "      <th>8</th>\n",
       "      <td>108</td>\n",
       "      <td>11664</td>\n",
       "    </tr>\n",
       "    <tr>\n",
       "      <th>9</th>\n",
       "      <td>109</td>\n",
       "      <td>11881</td>\n",
       "    </tr>\n",
       "  </tbody>\n",
       "</table>\n",
       "</div>"
      ],
      "text/plain": [
       "   data  squared\n",
       "0   100    10000\n",
       "1   101    10201\n",
       "2   102    10404\n",
       "3   103    10609\n",
       "4   104    10816\n",
       "5   105    11025\n",
       "6   106    11236\n",
       "7   107    11449\n",
       "8   108    11664\n",
       "9   109    11881"
      ]
     },
     "execution_count": 6,
     "metadata": {},
     "output_type": "execute_result"
    }
   ],
   "source": [
    "df"
   ]
  },
  {
   "cell_type": "code",
   "execution_count": null,
   "id": "1089f628",
   "metadata": {
    "papermill": {
     "duration": 0.006037,
     "end_time": "2021-11-25T03:01:44.161104",
     "exception": false,
     "start_time": "2021-11-25T03:01:44.155067",
     "status": "completed"
    },
    "tags": []
   },
   "outputs": [],
   "source": []
  }
 ],
 "metadata": {
  "celltoolbar": "Tags",
  "kernelspec": {
   "display_name": "Python 3",
   "language": "python",
   "name": "python3"
  },
  "language_info": {
   "codemirror_mode": {
    "name": "ipython",
    "version": 3
   },
   "file_extension": ".py",
   "mimetype": "text/x-python",
   "name": "python",
   "nbconvert_exporter": "python",
   "pygments_lexer": "ipython3",
   "version": "3.8.3"
  },
  "papermill": {
   "default_parameters": {},
   "duration": 7.608565,
   "end_time": "2021-11-25T03:01:44.384994",
   "environment_variables": {},
   "exception": null,
   "input_path": "notebooks/Sample.ipynb",
   "output_path": "outputs/2021-11-24/Sample_202111242301.ipynb",
   "parameters": {
    "end": 110,
    "start": 100
   },
   "start_time": "2021-11-25T03:01:36.776429",
   "version": "2.3.3"
  }
 },
 "nbformat": 4,
 "nbformat_minor": 5
}