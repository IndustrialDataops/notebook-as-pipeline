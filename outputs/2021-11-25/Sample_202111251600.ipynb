{
 "cells": [
  {
   "cell_type": "code",
   "execution_count": 1,
   "id": "f25b7fe7",
   "metadata": {
    "execution": {
     "iopub.execute_input": "2021-11-25T16:00:48.015384Z",
     "iopub.status.busy": "2021-11-25T16:00:48.014776Z",
     "iopub.status.idle": "2021-11-25T16:00:48.018512Z",
     "shell.execute_reply": "2021-11-25T16:00:48.018891Z"
    },
    "papermill": {
     "duration": 0.033008,
     "end_time": "2021-11-25T16:00:48.019091",
     "exception": false,
     "start_time": "2021-11-25T16:00:47.986083",
     "status": "completed"
    },
    "tags": [
     "parameters"
    ]
   },
   "outputs": [],
   "source": [
    "start = 1\n",
    "end   = 10 "
   ]
  },
  {
   "cell_type": "code",
   "execution_count": 2,
   "id": "9ca1c001",
   "metadata": {
    "execution": {
     "iopub.execute_input": "2021-11-25T16:00:48.063896Z",
     "iopub.status.busy": "2021-11-25T16:00:48.061843Z",
     "iopub.status.idle": "2021-11-25T16:00:48.066755Z",
     "shell.execute_reply": "2021-11-25T16:00:48.066251Z"
    },
    "papermill": {
     "duration": 0.02774,
     "end_time": "2021-11-25T16:00:48.066859",
     "exception": false,
     "start_time": "2021-11-25T16:00:48.039119",
     "status": "completed"
    },
    "tags": [
     "injected-parameters"
    ]
   },
   "outputs": [],
   "source": [
    "# Parameters\n",
    "start = 43\n",
    "end = 57\n"
   ]
  },
  {
   "cell_type": "code",
   "execution_count": 3,
   "id": "b70f2504",
   "metadata": {
    "execution": {
     "iopub.execute_input": "2021-11-25T16:00:48.110939Z",
     "iopub.status.busy": "2021-11-25T16:00:48.110184Z",
     "iopub.status.idle": "2021-11-25T16:00:48.391720Z",
     "shell.execute_reply": "2021-11-25T16:00:48.392191Z"
    },
    "papermill": {
     "duration": 0.305754,
     "end_time": "2021-11-25T16:00:48.392326",
     "exception": false,
     "start_time": "2021-11-25T16:00:48.086572",
     "status": "completed"
    },
    "tags": []
   },
   "outputs": [],
   "source": [
    "import pandas as pd \n",
    "\n",
    "df = pd.DataFrame(list(range(start,end)),columns=['data'])"
   ]
  },
  {
   "cell_type": "code",
   "execution_count": 4,
   "id": "acb493b8",
   "metadata": {
    "execution": {
     "iopub.execute_input": "2021-11-25T16:00:48.439697Z",
     "iopub.status.busy": "2021-11-25T16:00:48.439060Z",
     "iopub.status.idle": "2021-11-25T16:00:48.442512Z",
     "shell.execute_reply": "2021-11-25T16:00:48.441976Z"
    },
    "papermill": {
     "duration": 0.030804,
     "end_time": "2021-11-25T16:00:48.442683",
     "exception": false,
     "start_time": "2021-11-25T16:00:48.411879",
     "status": "completed"
    },
    "tags": []
   },
   "outputs": [],
   "source": [
    "def SquareFunc(data:int)->int:\n",
    "    return data*data"
   ]
  },
  {
   "cell_type": "code",
   "execution_count": 5,
   "id": "7383dd79",
   "metadata": {
    "execution": {
     "iopub.execute_input": "2021-11-25T16:00:48.490472Z",
     "iopub.status.busy": "2021-11-25T16:00:48.489960Z",
     "iopub.status.idle": "2021-11-25T16:00:48.492537Z",
     "shell.execute_reply": "2021-11-25T16:00:48.492960Z"
    },
    "papermill": {
     "duration": 0.030814,
     "end_time": "2021-11-25T16:00:48.493083",
     "exception": false,
     "start_time": "2021-11-25T16:00:48.462269",
     "status": "completed"
    },
    "tags": []
   },
   "outputs": [],
   "source": [
    "df['squared'] = df['data'].apply(SquareFunc)"
   ]
  },
  {
   "cell_type": "code",
   "execution_count": 6,
   "id": "c790eb1c",
   "metadata": {
    "execution": {
     "iopub.execute_input": "2021-11-25T16:00:48.542792Z",
     "iopub.status.busy": "2021-11-25T16:00:48.542205Z",
     "iopub.status.idle": "2021-11-25T16:00:48.550509Z",
     "shell.execute_reply": "2021-11-25T16:00:48.550930Z"
    },
    "papermill": {
     "duration": 0.038919,
     "end_time": "2021-11-25T16:00:48.551049",
     "exception": false,
     "start_time": "2021-11-25T16:00:48.512130",
     "status": "completed"
    },
    "tags": []
   },
   "outputs": [
    {
     "data": {
      "text/html": [
       "<div>\n",
       "<style scoped>\n",
       "    .dataframe tbody tr th:only-of-type {\n",
       "        vertical-align: middle;\n",
       "    }\n",
       "\n",
       "    .dataframe tbody tr th {\n",
       "        vertical-align: top;\n",
       "    }\n",
       "\n",
       "    .dataframe thead th {\n",
       "        text-align: right;\n",
       "    }\n",
       "</style>\n",
       "<table border=\"1\" class=\"dataframe\">\n",
       "  <thead>\n",
       "    <tr style=\"text-align: right;\">\n",
       "      <th></th>\n",
       "      <th>data</th>\n",
       "      <th>squared</th>\n",
       "    </tr>\n",
       "  </thead>\n",
       "  <tbody>\n",
       "    <tr>\n",
       "      <th>0</th>\n",
       "      <td>43</td>\n",
       "      <td>1849</td>\n",
       "    </tr>\n",
       "    <tr>\n",
       "      <th>1</th>\n",
       "      <td>44</td>\n",
       "      <td>1936</td>\n",
       "    </tr>\n",
       "    <tr>\n",
       "      <th>2</th>\n",
       "      <td>45</td>\n",
       "      <td>2025</td>\n",
       "    </tr>\n",
       "    <tr>\n",
       "      <th>3</th>\n",
       "      <td>46</td>\n",
       "      <td>2116</td>\n",
       "    </tr>\n",
       "    <tr>\n",
       "      <th>4</th>\n",
       "      <td>47</td>\n",
       "      <td>2209</td>\n",
       "    </tr>\n",
       "    <tr>\n",
       "      <th>5</th>\n",
       "      <td>48</td>\n",
       "      <td>2304</td>\n",
       "    </tr>\n",
       "    <tr>\n",
       "      <th>6</th>\n",
       "      <td>49</td>\n",
       "      <td>2401</td>\n",
       "    </tr>\n",
       "    <tr>\n",
       "      <th>7</th>\n",
       "      <td>50</td>\n",
       "      <td>2500</td>\n",
       "    </tr>\n",
       "    <tr>\n",
       "      <th>8</th>\n",
       "      <td>51</td>\n",
       "      <td>2601</td>\n",
       "    </tr>\n",
       "    <tr>\n",
       "      <th>9</th>\n",
       "      <td>52</td>\n",
       "      <td>2704</td>\n",
       "    </tr>\n",
       "    <tr>\n",
       "      <th>10</th>\n",
       "      <td>53</td>\n",
       "      <td>2809</td>\n",
       "    </tr>\n",
       "    <tr>\n",
       "      <th>11</th>\n",
       "      <td>54</td>\n",
       "      <td>2916</td>\n",
       "    </tr>\n",
       "    <tr>\n",
       "      <th>12</th>\n",
       "      <td>55</td>\n",
       "      <td>3025</td>\n",
       "    </tr>\n",
       "    <tr>\n",
       "      <th>13</th>\n",
       "      <td>56</td>\n",
       "      <td>3136</td>\n",
       "    </tr>\n",
       "  </tbody>\n",
       "</table>\n",
       "</div>"
      ],
      "text/plain": [
       "    data  squared\n",
       "0     43     1849\n",
       "1     44     1936\n",
       "2     45     2025\n",
       "3     46     2116\n",
       "4     47     2209\n",
       "5     48     2304\n",
       "6     49     2401\n",
       "7     50     2500\n",
       "8     51     2601\n",
       "9     52     2704\n",
       "10    53     2809\n",
       "11    54     2916\n",
       "12    55     3025\n",
       "13    56     3136"
      ]
     },
     "execution_count": 6,
     "metadata": {},
     "output_type": "execute_result"
    }
   ],
   "source": [
    "df"
   ]
  },
  {
   "cell_type": "code",
   "execution_count": null,
   "id": "1089f628",
   "metadata": {
    "papermill": {
     "duration": 0.0217,
     "end_time": "2021-11-25T16:00:48.594303",
     "exception": false,
     "start_time": "2021-11-25T16:00:48.572603",
     "status": "completed"
    },
    "tags": []
   },
   "outputs": [],
   "source": []
  }
 ],
 "metadata": {
  "celltoolbar": "Tags",
  "kernelspec": {
   "display_name": "Python 3",
   "language": "python",
   "name": "python3"
  },
  "language_info": {
   "codemirror_mode": {
    "name": "ipython",
    "version": 3
   },
   "file_extension": ".py",
   "mimetype": "text/x-python",
   "name": "python",
   "nbconvert_exporter": "python",
   "pygments_lexer": "ipython3",
   "version": "3.9.6"
  },
  "papermill": {
   "default_parameters": {},
   "duration": 2.198873,
   "end_time": "2021-11-25T16:00:48.826535",
   "environment_variables": {},
   "exception": null,
   "input_path": "notebooks/Sample.ipynb",
   "output_path": "outputs/2021-11-25/Sample_202111251600.ipynb",
   "parameters": {
    "end": 57,
    "start": 43
   },
   "start_time": "2021-11-25T16:00:46.627662",
   "version": "2.3.3"
  }
 },
 "nbformat": 4,
 "nbformat_minor": 5
}